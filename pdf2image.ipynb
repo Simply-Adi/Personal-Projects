{
 "cells": [],
 "metadata": {
  "kernelspec": {
   "display_name": "Python 3.8.13 ('py38_clone')",
   "language": "python",
   "name": "python3"
  },
  "language_info": {
   "codemirror_mode": {
    "name": "ipython",
    "version": 3
   },
   "file_extension": ".py",
   "mimetype": "text/x-python",
   "name": "python",
   "nbconvert_exporter": "python",
   "pygments_lexer": "ipython3",
   "version": "3.8.13"
  },
  "orig_nbformat": 4,
  "vscode": {
   "interpreter": {
    "hash": "324851bdc5d85838490862f64f3e1b706e1a5e40f7e45c36d112a7ed0be4fa26"
   }
  }
 },
 "nbformat": 4,
 "nbformat_minor": 2
}
